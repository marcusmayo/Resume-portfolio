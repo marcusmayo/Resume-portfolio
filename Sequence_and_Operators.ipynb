{
  "nbformat": 4,
  "nbformat_minor": 0,
  "metadata": {
    "colab": {
      "name": "Sequence_and_Operators.ipynb",
      "provenance": [],
      "authorship_tag": "ABX9TyOLraQFHjgx8faPBowlvyLe",
      "include_colab_link": true
    },
    "kernelspec": {
      "name": "python3",
      "display_name": "Python 3"
    }
  },
  "cells": [
    {
      "cell_type": "markdown",
      "metadata": {
        "id": "view-in-github",
        "colab_type": "text"
      },
      "source": [
        "<a href=\"https://colab.research.google.com/github/marcusmayo/resume_portfolio/blob/master/Sequence_and_Operators.ipynb\" target=\"_parent\"><img src=\"https://colab.research.google.com/assets/colab-badge.svg\" alt=\"Open In Colab\"/></a>"
      ]
    },
    {
      "cell_type": "code",
      "metadata": {
        "id": "xZBq3ARS8m7p",
        "colab_type": "code",
        "outputId": "24d43b6a-a092-40d2-9a91-5cfe1c369b72",
        "colab": {
          "base_uri": "https://localhost:8080/",
          "height": 34
        }
      },
      "source": [
        "#Output of the following code is the number of unique elements within a set\n",
        "nums=set([1,1,2,3,3,3,4,4])\n",
        "print(len(nums))"
      ],
      "execution_count": 0,
      "outputs": [
        {
          "output_type": "stream",
          "text": [
            "4\n"
          ],
          "name": "stdout"
        }
      ]
    },
    {
      "cell_type": "code",
      "metadata": {
        "id": "6JbNczwV9BHF",
        "colab_type": "code",
        "outputId": "2c07c606-f741-435b-f279-fc655ae65e49",
        "colab": {
          "base_uri": "https://localhost:8080/",
          "height": 34
        }
      },
      "source": [
        "#Output of this code list the keys of the dictionary\n",
        "dictionary={\"john\":40, \"peter\":45}\n",
        "print(list(dictionary.keys()))"
      ],
      "execution_count": 0,
      "outputs": [
        {
          "output_type": "stream",
          "text": [
            "['john', 'peter']\n"
          ],
          "name": "stdout"
        }
      ]
    },
    {
      "cell_type": "code",
      "metadata": {
        "id": "jo-QHOCa9n93",
        "colab_type": "code",
        "outputId": "fa928322-0c71-4363-8527-36c8f362c719",
        "colab": {
          "base_uri": "https://localhost:8080/",
          "height": 68
        }
      },
      "source": [
        "#This program checks the validity of a password against a set of parameters\n",
        "#We import the re package used to work with regular expressions\n",
        "import re\n",
        "password=input(\"Input your password: \")\n",
        "print(password)\n",
        "#The variable which the parameters will verify against is identified\n",
        "x=True\n",
        "#The parameters for a valid password are created\n",
        "while x:\n",
        "  if not (len(password)>=6):\n",
        "    break\n",
        "  elif not (len(password)<=12):\n",
        "    break\n",
        "  elif not re.search(\"[a-z]\", password):\n",
        "    break\n",
        "  elif not re.search(\"[A-Z]\", password):\n",
        "    break\n",
        "  elif not re.search(\"[0-9]\", password):\n",
        "    break\n",
        "  else:\n",
        "    x=False\n",
        "    print(\"Valid Password\")\n",
        "    break\n",
        "#If the variable does not meet the criteria for a valid password then it is not a valid password\n",
        "if x:\n",
        "  print(\"Not a Valid Password\")"
      ],
      "execution_count": 0,
      "outputs": [
        {
          "output_type": "stream",
          "text": [
            "Input your password: kih0\n",
            "kih0\n",
            "Not a Valid Password\n"
          ],
          "name": "stdout"
        }
      ]
    },
    {
      "cell_type": "code",
      "metadata": {
        "id": "QyRk5NgAH4LX",
        "colab_type": "code",
        "outputId": "6d2d8a84-7d20-4743-9f41-1d5f87c1373b",
        "colab": {
          "base_uri": "https://localhost:8080/",
          "height": 119
        }
      },
      "source": [
        "#This program writes a loop that prints all elements of a list and their position in a list\n",
        "a=[4,7,3,2,5,9]\n",
        "for x, val in enumerate(a):\n",
        "  print(x, ',', val)"
      ],
      "execution_count": 0,
      "outputs": [
        {
          "output_type": "stream",
          "text": [
            "0 , 4\n",
            "1 , 7\n",
            "2 , 3\n",
            "3 , 2\n",
            "4 , 5\n",
            "5 , 9\n"
          ],
          "name": "stdout"
        }
      ]
    },
    {
      "cell_type": "code",
      "metadata": {
        "id": "FhPVxxoMPIcO",
        "colab_type": "code",
        "outputId": "932ce361-3bff-4f68-d0fb-46ad5aef494c",
        "colab": {
          "base_uri": "https://localhost:8080/",
          "height": 68
        }
      },
      "source": [
        "#This program accepts a string and prints the characters that have an even index\n",
        "#It reads the string\n",
        "x=input(\"Input your string: \")\n",
        "print(x)\n",
        "\n",
        "#Then it creates a string with characters at multiple of 2\n",
        "modified_string=x[0::2]\n",
        "print(modified_string)"
      ],
      "execution_count": 0,
      "outputs": [
        {
          "output_type": "stream",
          "text": [
            "Input your string: This is a string\n",
            "This is a string\n",
            "Ti sasrn\n"
          ],
          "name": "stdout"
        }
      ]
    },
    {
      "cell_type": "code",
      "metadata": {
        "id": "PukZOgjKQDr_",
        "colab_type": "code",
        "outputId": "50a206e8-416f-41a7-d8f4-0bdbaa3f1a1c",
        "colab": {
          "base_uri": "https://localhost:8080/",
          "height": 34
        }
      },
      "source": [
        "#This defined function counts and prints the number of each character in a string input\n",
        "def char_frequency(str1):\n",
        "  dict={}\n",
        "  for n in str1:\n",
        "    keys=dict.keys()\n",
        "    if n in keys:\n",
        "      dict[n]+=1\n",
        "    else:\n",
        "      dict[n]=1\n",
        "  return dict\n",
        "print(char_frequency('abcdefgabc'))"
      ],
      "execution_count": 0,
      "outputs": [
        {
          "output_type": "stream",
          "text": [
            "{'a': 2, 'b': 2, 'c': 2, 'd': 1, 'e': 1, 'f': 1, 'g': 1}\n"
          ],
          "name": "stdout"
        }
      ]
    },
    {
      "cell_type": "code",
      "metadata": {
        "id": "RpE3qjTj_y5J",
        "colab_type": "code",
        "colab": {
          "base_uri": "https://localhost:8080/",
          "height": 34
        },
        "outputId": "3995cff1-a7c1-4597-e318-7fc0354fcb93"
      },
      "source": [
        "#This program writes a list whose elements are intersections of the given elements\n",
        "#This is a defined function that illustrates the intersection of two lists using set() and intersection()\n",
        "def intersection(lst1, lst2):\n",
        "  return set(lst1).intersection(lst2)\n",
        "\n",
        "lst1=[1,3,6,78,35,55]\n",
        "lst2=[12,24,35,24,88,120,155]\n",
        "print(intersection(lst1, lst2))"
      ],
      "execution_count": 1,
      "outputs": [
        {
          "output_type": "stream",
          "text": [
            "{35}\n"
          ],
          "name": "stdout"
        }
      ]
    }
  ]
}