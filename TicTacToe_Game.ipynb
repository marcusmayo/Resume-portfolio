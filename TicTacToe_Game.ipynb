{
  "nbformat": 4,
  "nbformat_minor": 0,
  "metadata": {
    "colab": {
      "name": "TicTacToe_Game.ipynb",
      "provenance": [],
      "authorship_tag": "ABX9TyN1qVZEhW3kif3Id8fFLNg6",
      "include_colab_link": true
    },
    "kernelspec": {
      "name": "python3",
      "display_name": "Python 3"
    }
  },
  "cells": [
    {
      "cell_type": "markdown",
      "metadata": {
        "id": "view-in-github",
        "colab_type": "text"
      },
      "source": [
        "<a href=\"https://colab.research.google.com/github/marcusmayo/Resume-portfolio/blob/master/TicTacToe_Game.ipynb\" target=\"_parent\"><img src=\"https://colab.research.google.com/assets/colab-badge.svg\" alt=\"Open In Colab\"/></a>"
      ]
    },
    {
      "cell_type": "code",
      "metadata": {
        "id": "H5xafZM5oBrj",
        "colab_type": "code",
        "colab": {
          "base_uri": "https://localhost:8080/",
          "height": 34
        },
        "outputId": "db004168-928d-4ec1-9e4d-3c4e63323390"
      },
      "source": [
        "print(\"Welcome to Marcus Mayo 'Tic Tac Toe game'\")"
      ],
      "execution_count": 1,
      "outputs": [
        {
          "output_type": "stream",
          "text": [
            "Welcome to Marcus Mayo 'Tic Tac Toe game'\n"
          ],
          "name": "stdout"
        }
      ]
    },
    {
      "cell_type": "code",
      "metadata": {
        "id": "x2z7enYzo7kX",
        "colab_type": "code",
        "colab": {
          "base_uri": "https://localhost:8080/",
          "height": 34
        },
        "outputId": "62caa409-3a73-43f4-c868-6b3003e4d7c8"
      },
      "source": [
        "print(\"The Tic Tac Toes boxes goes from 1 to 9\")"
      ],
      "execution_count": 2,
      "outputs": [
        {
          "output_type": "stream",
          "text": [
            "The Tic Tac Toes boxes goes from 1 to 9\n"
          ],
          "name": "stdout"
        }
      ]
    },
    {
      "cell_type": "code",
      "metadata": {
        "id": "nEoCQzZMpCLc",
        "colab_type": "code",
        "colab": {
          "base_uri": "https://localhost:8080/",
          "height": 34
        },
        "outputId": "d36605c0-8947-4e6b-9189-d28a72e93a62"
      },
      "source": [
        "print(\"1 is the top left box and 9 is considered the bottom right\")"
      ],
      "execution_count": 3,
      "outputs": [
        {
          "output_type": "stream",
          "text": [
            "1 is the top left box and 9 is considered the bottom right\n"
          ],
          "name": "stdout"
        }
      ]
    },
    {
      "cell_type": "code",
      "metadata": {
        "id": "v3D7_VxBpKiy",
        "colab_type": "code",
        "colab": {
          "base_uri": "https://localhost:8080/",
          "height": 34
        },
        "outputId": "3fbcbec1-74eb-4335-9374-7a710d321884"
      },
      "source": [
        "print(\"Lets play!\")"
      ],
      "execution_count": 4,
      "outputs": [
        {
          "output_type": "stream",
          "text": [
            "Lets play!\n"
          ],
          "name": "stdout"
        }
      ]
    },
    {
      "cell_type": "code",
      "metadata": {
        "id": "x2Hdi1xYMnm2",
        "colab_type": "code",
        "outputId": "d2a2426d-e3d1-4822-93c4-934accbc1f9b",
        "colab": {
          "base_uri": "https://localhost:8080/",
          "height": 765
        }
      },
      "source": [
        "#This is a library used for creating Games\n",
        "import random\n",
        "\n",
        "#Contains functions (for simple words) relevant for creating games\n",
        "#Allows your Python program to interact within system in a more efficient way\n",
        "import sys\n",
        "\n",
        "board=[i for i in range(0,9)]\n",
        "player, computer = '',''\n",
        "\n",
        "#This is how you create the parameters for the game\n",
        "moves=((1,7,3,9),(5,),(2,4,6,8))\n",
        "\n",
        "#Setup combinations to Win\n",
        "winners=((0,1,2),(3,4,5),(6,7,8),(0,3,6),(1,4,7),(2,5,8),(0,4,8),(2,4,6))\n",
        "\n",
        "#Setup Table\n",
        "tab=range(1,10)\n",
        "\n",
        "def print_board():\n",
        "    x=1\n",
        "    for i in board:\n",
        "        end = ' | '\n",
        "        if x%3 == 0:\n",
        "            end = ' \\n'\n",
        "            if i != 1: end+='---------\\n';\n",
        "        char=' '\n",
        "        if i in ('X','O'): char=i;\n",
        "        x+=1\n",
        "        print(char,end=end)\n",
        "        \n",
        "def select_char():\n",
        "    chars=('X','O')\n",
        "    if random.randint(0,1) == 0:\n",
        "        return chars[::-1]\n",
        "    return chars\n",
        "\n",
        "def can_move(brd, player, move):\n",
        "    if move in tab and brd[move-1] == move-1:\n",
        "        return True\n",
        "    return False\n",
        "\n",
        "def can_win(brd, player, move):\n",
        "    places=[]\n",
        "    x=0\n",
        "    for i in brd:\n",
        "        if i == player: places.append(x);\n",
        "        x+=1\n",
        "    win=True\n",
        "    for tup in winners:\n",
        "        win=True\n",
        "        for ix in tup:\n",
        "            if brd[ix] != player:\n",
        "                win=False\n",
        "                break\n",
        "        if win == True:\n",
        "            break\n",
        "    return win\n",
        "\n",
        "def make_move(brd, player, move, undo=False):\n",
        "    if can_move(brd, player, move):\n",
        "        brd[move-1] = player\n",
        "        win=can_win(brd, player, move)\n",
        "        if undo:\n",
        "            brd[move-1] = move-1\n",
        "        return (True, win)\n",
        "    return (False, False)\n",
        "\n",
        "#Gameplay functions go here for player and computer\n",
        "def computer_move():\n",
        "    move=-1\n",
        "    #When player make these moves the player win\n",
        "    for i in range(1,10):\n",
        "        if make_move(board, computer, i, True)[1]:\n",
        "            move=i\n",
        "            break\n",
        "    if move == -1:\n",
        "        #If player can win, block him.\n",
        "        for i in range(1,10):\n",
        "            if make_move(board, player, i, True)[1]:\n",
        "                move=i\n",
        "                break\n",
        "    if move == -1:\n",
        "        #Try to win\n",
        "        for tup in moves:\n",
        "            for mv in tup:\n",
        "                if move == -1 and can_move(board, computer, mv):\n",
        "                    move=mv\n",
        "                    break\n",
        "    return make_move(board, computer, move)\n",
        "\n",
        "def space_exist():\n",
        "    return board.count('X') + board.count('O') != 9\n",
        "\n",
        "player, computer = select_char()\n",
        "print('Player is [%s] and computer is [%s]' % (player, computer))\n",
        "result='Play Again'\n",
        "while space_exist():\n",
        "    print_board()\n",
        "    print('# Lets Play ! [Press 1-9 to choose your move!] : ', end='')\n",
        "    move = int(input())\n",
        "    moved, won = make_move(board, player, move)\n",
        "    if not moved:\n",
        "        print(' >> Invalid number ! Try again !')\n",
        "        continue\n",
        "    #\n",
        "    if won:\n",
        "        result='*** You are the Winner ! ***'\n",
        "        break\n",
        "    elif computer_move()[1]:\n",
        "        result='=== You are a loser :( =='\n",
        "        break;\n",
        "\n",
        "print_board()\n",
        "print(result)"
      ],
      "execution_count": 12,
      "outputs": [
        {
          "output_type": "stream",
          "text": [
            "Player is [X] and computer is [O]\n",
            "  |   |   \n",
            "---------\n",
            "  |   |   \n",
            "---------\n",
            "  |   |   \n",
            "---------\n",
            "# Lets Play ! [Press 1-9 to choose your move!] : 2\n",
            "O | X |   \n",
            "---------\n",
            "  |   |   \n",
            "---------\n",
            "  |   |   \n",
            "---------\n",
            "# Lets Play ! [Press 1-9 to choose your move!] : 5\n",
            "O | X |   \n",
            "---------\n",
            "  | X |   \n",
            "---------\n",
            "  | O |   \n",
            "---------\n",
            "# Lets Play ! [Press 1-9 to choose your move!] : 8\n",
            " >> Invalid number ! Try again !\n",
            "O | X |   \n",
            "---------\n",
            "  | X |   \n",
            "---------\n",
            "  | O |   \n",
            "---------\n",
            "# Lets Play ! [Press 1-9 to choose your move!] : 9\n",
            "O | X |   \n",
            "---------\n",
            "  | X |   \n",
            "---------\n",
            "O | O | X \n",
            "---------\n",
            "# Lets Play ! [Press 1-9 to choose your move!] : 3\n",
            "O | X | X \n",
            "---------\n",
            "O | X |   \n",
            "---------\n",
            "O | O | X \n",
            "---------\n",
            "=== You are a loser :( ==\n"
          ],
          "name": "stdout"
        }
      ]
    }
  ]
}