{
  "nbformat": 4,
  "nbformat_minor": 0,
  "metadata": {
    "colab": {
      "name": "Python Course Projects 1",
      "provenance": [],
      "authorship_tag": "ABX9TyNWcNe9LTqrnWMKtK2KdykJ",
      "include_colab_link": true
    },
    "kernelspec": {
      "name": "python3",
      "display_name": "Python 3"
    }
  },
  "cells": [
    {
      "cell_type": "markdown",
      "metadata": {
        "id": "view-in-github",
        "colab_type": "text"
      },
      "source": [
        "<a href=\"https://colab.research.google.com/github/marcusmayo/resume_portfolio/blob/master/Python_Course_Projects_1.ipynb\" target=\"_parent\"><img src=\"https://colab.research.google.com/assets/colab-badge.svg\" alt=\"Open In Colab\"/></a>"
      ]
    },
    {
      "cell_type": "code",
      "metadata": {
        "id": "puDZcIDI2B6c",
        "colab_type": "code",
        "outputId": "94a4dc60-87c5-45a2-af18-0ee7cede0fd4",
        "colab": {
          "base_uri": "https://localhost:8080/",
          "height": 272
        }
      },
      "source": [
        "#Python program to find the factors of a number\n",
        "\n",
        "#define a function\n",
        "def print_factors(x):\n",
        "\n",
        "#This function takes a number and prints the factors\n",
        "  print(\"The factors of\",x,\"are:\")\n",
        "  for i in range(1, x +1):\n",
        "    if x % i==0:\n",
        "      print(i)\n",
        "\n",
        "#change this value for a different result\n",
        "num=500\n",
        "\n",
        "#uncomment the following line to take input from the user\n",
        "num=int(input(\"Enter a number:\"))\n",
        "\n",
        "print_factors(num)\n",
        "\n",
        "if num>0:\n",
        "  print(\"Positive number\")\n",
        "elif num==0:\n",
        "  print(\"Zero\")\n",
        "else:\n",
        "  print(\"Negative number\")"
      ],
      "execution_count": 0,
      "outputs": [
        {
          "output_type": "stream",
          "text": [
            "Enter a number:675\n",
            "The factors of 675 are:\n",
            "1\n",
            "3\n",
            "5\n",
            "9\n",
            "15\n",
            "25\n",
            "27\n",
            "45\n",
            "75\n",
            "135\n",
            "225\n",
            "675\n",
            "Positive number\n"
          ],
          "name": "stdout"
        }
      ]
    },
    {
      "cell_type": "code",
      "metadata": {
        "id": "YhOIDZF84kyU",
        "colab_type": "code",
        "outputId": "83be355d-cb3e-4bee-b7f1-272b2f0455d5",
        "colab": {
          "base_uri": "https://localhost:8080/",
          "height": 170
        }
      },
      "source": [
        "#Program to sort alphabetically the words from a string provided by the user\n",
        "\n",
        "#change this value for a different result\n",
        "my_str=\"Hello this is an example with cased letters\"\n",
        "\n",
        "#uncomment to takeinput from the user\n",
        "#my_str=input(\"Enter a string: \")\n",
        "\n",
        "#breakdown the string into a list of words\n",
        "words=my_str.split()\n",
        "\n",
        "#sort the list\n",
        "words.sort()\n",
        "\n",
        "#display the sorted words\n",
        "print(\"the sorted words are:\")\n",
        "for word in words:\n",
        "  print(word)"
      ],
      "execution_count": 0,
      "outputs": [
        {
          "output_type": "stream",
          "text": [
            "the sorted words are:\n",
            "Hello\n",
            "an\n",
            "cased\n",
            "example\n",
            "is\n",
            "letters\n",
            "this\n",
            "with\n"
          ],
          "name": "stdout"
        }
      ]
    },
    {
      "cell_type": "code",
      "metadata": {
        "id": "wEbqO_wg51Zi",
        "colab_type": "code",
        "outputId": "626d3cda-2f18-457e-dadd-f48e64464793",
        "colab": {
          "base_uri": "https://localhost:8080/",
          "height": 54
        }
      },
      "source": [
        "#Write a program that will find all of the numbers between 1000 and 3000 such that each digit of a number is an even number\n",
        "\n",
        "items=[]\n",
        "for i in range(1000,3000):\n",
        "  s=str(i)\n",
        "  if(int(s[0])%1==0)and(int(s[1])%2==0)and(int(s[2])%2==0)and(int(s[3])%2==0):\n",
        "    items.append(s)\n",
        "print(\",\".join(items))"
      ],
      "execution_count": 0,
      "outputs": [
        {
          "output_type": "stream",
          "text": [
            "1000,1002,1004,1006,1008,1020,1022,1024,1026,1028,1040,1042,1044,1046,1048,1060,1062,1064,1066,1068,1080,1082,1084,1086,1088,1200,1202,1204,1206,1208,1220,1222,1224,1226,1228,1240,1242,1244,1246,1248,1260,1262,1264,1266,1268,1280,1282,1284,1286,1288,1400,1402,1404,1406,1408,1420,1422,1424,1426,1428,1440,1442,1444,1446,1448,1460,1462,1464,1466,1468,1480,1482,1484,1486,1488,1600,1602,1604,1606,1608,1620,1622,1624,1626,1628,1640,1642,1644,1646,1648,1660,1662,1664,1666,1668,1680,1682,1684,1686,1688,1800,1802,1804,1806,1808,1820,1822,1824,1826,1828,1840,1842,1844,1846,1848,1860,1862,1864,1866,1868,1880,1882,1884,1886,1888,2000,2002,2004,2006,2008,2020,2022,2024,2026,2028,2040,2042,2044,2046,2048,2060,2062,2064,2066,2068,2080,2082,2084,2086,2088,2200,2202,2204,2206,2208,2220,2222,2224,2226,2228,2240,2242,2244,2246,2248,2260,2262,2264,2266,2268,2280,2282,2284,2286,2288,2400,2402,2404,2406,2408,2420,2422,2424,2426,2428,2440,2442,2444,2446,2448,2460,2462,2464,2466,2468,2480,2482,2484,2486,2488,2600,2602,2604,2606,2608,2620,2622,2624,2626,2628,2640,2642,2644,2646,2648,2660,2662,2664,2666,2668,2680,2682,2684,2686,2688,2800,2802,2804,2806,2808,2820,2822,2824,2826,2828,2840,2842,2844,2846,2848,2860,2862,2864,2866,2868,2880,2882,2884,2886,2888\n"
          ],
          "name": "stdout"
        }
      ]
    },
    {
      "cell_type": "code",
      "metadata": {
        "id": "DvW8LymB7Gy_",
        "colab_type": "code",
        "outputId": "97f09e3e-9554-4f1c-f0c9-df29366c4506",
        "colab": {
          "base_uri": "https://localhost:8080/",
          "height": 102
        }
      },
      "source": [
        "#Python program to count alphabets digits and special characters in a string\n",
        "\n",
        "#Input string\n",
        "string=input(\"Please enter your string:\")\n",
        "alphabets=digits=special=0\n",
        "\n",
        "#Code calculates the alphabets and digits in the string\n",
        "for i in range(len(string)):\n",
        "  if(string[i].isalpha()):\n",
        "    alphabets=alphabets+1\n",
        "  elif(string[i].isdigit()):\n",
        "    digits=digits+1\n",
        "  else:\n",
        "    special=special+1\n",
        "  \n",
        "#Print result\n",
        "print(\"\\nTotal Number of Alphabets in this String: \", alphabets)\n",
        "print(\"Total Number of Digits in this String: \", digits)\n",
        "print(\"Total Number of Special Characters in this String:\", special)"
      ],
      "execution_count": 0,
      "outputs": [
        {
          "output_type": "stream",
          "text": [
            "Please enter your string:Hello, this is an example of a number 12389765\n",
            "\n",
            "Total Number of Alphabets in this String:  29\n",
            "Total Number of Digits in this String:  8\n",
            "Total Number of Special Characters in this String: 9\n"
          ],
          "name": "stdout"
        }
      ]
    }
  ]
}